{
 "cells": [
  {
   "cell_type": "markdown",
   "id": "8104031c",
   "metadata": {},
   "source": [
    "## Discrete optimization by evotorch"
   ]
  },
  {
   "cell_type": "code",
   "execution_count": 24,
   "id": "f9b9aa4b",
   "metadata": {},
   "outputs": [],
   "source": [
    "import evotorch as et\n",
    "from evotorch.algorithms import GeneticAlgorithm\n",
    "from evotorch.operators import CrossOver, Operator\n",
    "from evotorch.operators import OnePointCrossOver \n",
    "from evotorch.operators import TwoPointCrossOver\n",
    "from evotorch.logging import StdOutLogger, PandasLogger\n",
    "import torch\n",
    "import matplotlib.pyplot as plt"
   ]
  },
  {
   "cell_type": "code",
   "execution_count": null,
   "id": "db7c2352",
   "metadata": {},
   "outputs": [],
   "source": [
    "# Custom function\n",
    "class TwoPointCrossOver(Operator):\n",
    "    def __init__(self, problem, probability=0.7):\n",
    "        super().__init__(problem)\n",
    "        self.probability = probability\n",
    "\n",
    "    def _do(self, batch):\n",
    "        population = batch.access_values()\n",
    "        num_individuals = population.shape[0]\n",
    "        num_genes = population.shape[1]\n",
    "\n",
    "        new_population = population.clone()\n",
    "\n",
    "        for i in range(0, num_individuals, 2):\n",
    "            if i + 1 >= num_individuals:\n",
    "                break\n",
    "\n",
    "            if torch.rand(1).item() < self.probability:\n",
    "                # Perform two-point crossover\n",
    "                crossover_points = torch.sort(torch.randint(1, num_genes, (2,)))[0]\n",
    "                p1, p2 = crossover_points[0].item(), crossover_points[1].item()\n",
    "\n",
    "                new_population[i, p1:p2], new_population[i+1, p1:p2] = (\n",
    "                    population[i+1, p1:p2],\n",
    "                    population[i, p1:p2]\n",
    "                )\n",
    "\n",
    "        batch.set_values(new_population)"
   ]
  },
  {
   "cell_type": "code",
   "execution_count": 20,
   "id": "0b9a7d97",
   "metadata": {},
   "outputs": [
    {
     "name": "stdout",
     "output_type": "stream",
     "text": [
      "[2024-08-18 09:01:30] INFO     <36184> evotorch.core: Instance of `Problem` (id:1725760028576) -- The `dtype` for the problem's decision variables is set as torch.int32\n",
      "[2024-08-18 09:01:30] INFO     <36184> evotorch.core: Instance of `Problem` (id:1725760028576) -- `eval_dtype` (the dtype of the fitnesses and evaluation data) is set as torch.float32\n",
      "[2024-08-18 09:01:30] INFO     <36184> evotorch.core: Instance of `Problem` (id:1725760028576) -- The `device` of the problem is set as cpu\n",
      "[2024-08-18 09:01:30] INFO     <36184> evotorch.core: Instance of `Problem` (id:1725760028576) -- The number of actors that will be allocated for parallelized evaluation is 0\n"
     ]
    }
   ],
   "source": [
    "# 예시 목적 함수 (간단한 이산 문제)\n",
    "def simple_fitness(x: torch.Tensor) -> torch.Tensor:\n",
    "    return torch.sum(x, dim=1)  # 예시로서 모든 요소의 합을 최대화\n",
    "\n",
    "# 문제 정의\n",
    "problem = et.Problem(\n",
    "    \"max\",  # 최대화 문제\n",
    "    simple_fitness,\n",
    "    initial_bounds=(0, 1),  # 이진 문제를 위한 경계 (0 또는 1)\n",
    "    solution_length=10,  # 각 솔루션의 길이\n",
    "    vectorized=True,\n",
    "    dtype=torch.int  #####\n",
    ")\n",
    "\n",
    "# 유전자 알고리즘 정의\n",
    "searcher = GeneticAlgorithm(\n",
    "    problem,\n",
    "    popsize=100,  # 인구 크기\n",
    "    operators=[\n",
    "        #TwoPointCrossOver(problem, probability=0.7),  # custom function ok\n",
    "        TwoPointCrossOver(problem, tournament_size=4),  # lib ok\n",
    "        #OnePointCrossOver(problem, tournament_size=4),  # lib ok\n",
    "    ],\n",
    ")"
   ]
  },
  {
   "cell_type": "code",
   "execution_count": 21,
   "id": "596a1e1e",
   "metadata": {},
   "outputs": [
    {
     "name": "stdout",
     "output_type": "stream",
     "text": [
      "         iter : 10\n",
      "pop_best_eval : 10.0\n",
      "    mean_eval : 10.0\n",
      "  median_eval : 10.0\n",
      "    best_eval : 10.0\n",
      "   worst_eval : 1.0\n",
      "\n",
      "         iter : 20\n",
      "pop_best_eval : 10.0\n",
      "    mean_eval : 10.0\n",
      "  median_eval : 10.0\n",
      "    best_eval : 10.0\n",
      "   worst_eval : 1.0\n",
      "\n",
      "ReadOnlyTensor([1, 1, 1, 1, 1, 1, 1, 1, 1, 1], dtype=torch.int32)\n"
     ]
    },
    {
     "data": {
      "image/png": "[encoded data removed]",
      "text/plain": [
       "<Figure size 640x480 with 1 Axes>"
      ]
     },
     "metadata": {},
     "output_type": "display_data"
    }
   ],
   "source": [
    "# 표준 출력 로거 및 판다스 로거 초기화\n",
    "_ = StdOutLogger(searcher, interval=10)\n",
    "pandas_logger = PandasLogger(searcher)\n",
    "\n",
    "# 유전자 알고리즘 실행\n",
    "searcher.run(20)\n",
    "\n",
    "print(searcher.status[\"best\"].values)\n",
    "# 결과 로그를 시각화\n",
    "pandas_frame = pandas_logger.to_dataframe()\n",
    "pandas_frame[\"best_eval\"].plot()\n",
    "plt.show()"
   ]
  },
  {
   "cell_type": "code",
   "execution_count": null,
   "id": "738e16b9",
   "metadata": {},
   "outputs": [],
   "source": []
  },
  {
   "cell_type": "code",
   "execution_count": null,
   "id": "75572bf3",
   "metadata": {},
   "outputs": [],
   "source": []
  },
  {
   "cell_type": "code",
   "execution_count": 23,
   "id": "c98b3138",
   "metadata": {},
   "outputs": [
    {
     "name": "stdout",
     "output_type": "stream",
     "text": [
      "[2024-08-18 09:48:49] INFO     <36184> evotorch.core: Instance of `Problem` (id:1725856486880) -- The `dtype` for the problem's decision variables is set as torch.bool\n",
      "[2024-08-18 09:48:49] INFO     <36184> evotorch.core: Instance of `Problem` (id:1725856486880) -- `eval_dtype` (the dtype of the fitnesses and evaluation data) is set as torch.float32\n",
      "[2024-08-18 09:48:49] INFO     <36184> evotorch.core: Instance of `Problem` (id:1725856486880) -- The `device` of the problem is set as cpu\n",
      "[2024-08-18 09:48:49] INFO     <36184> evotorch.core: Instance of `Problem` (id:1725856486880) -- The number of actors that will be allocated for parallelized evaluation is 0\n",
      "         iter : 10\n",
      "pop_best_eval : 10.0\n",
      "    mean_eval : 10.0\n",
      "  median_eval : 10.0\n",
      "    best_eval : 10.0\n",
      "   worst_eval : 1.0\n",
      "\n"
     ]
    },
    {
     "data": {
      "text/plain": [
       "(ReadOnlyTensor([True, True, True, True, True, True, True, True, True, True]),\n",
       " 10.0)"
      ]
     },
     "execution_count": 23,
     "metadata": {},
     "output_type": "execute_result"
    }
   ],
   "source": [
    "# Define the fitness function\n",
    "def simple_fitness(x: torch.Tensor) -> torch.Tensor:\n",
    "    return torch.sum(x, dim=1)  # Sum of the elements\n",
    "\n",
    "\n",
    "# Define the problem\n",
    "problem = et.Problem(\n",
    "    \"max\",\n",
    "    simple_fitness,\n",
    "    initial_bounds=(0, 1),\n",
    "    solution_length=10,\n",
    "    vectorized=True,\n",
    "    dtype=torch.bool  #######\n",
    ")\n",
    "\n",
    "# Initialize the genetic algorithm\n",
    "searcher = GeneticAlgorithm(\n",
    "    problem,\n",
    "    popsize=100,\n",
    "    #operators=[TwoPointCrossOver(problem, probability=0.7)],\n",
    "    operators=[TwoPointCrossOver(problem, tournament_size=4)],\n",
    ")\n",
    "\n",
    "# # Set up logging\n",
    "_ = StdOutLogger(searcher, interval=10)\n",
    "pandas_logger = PandasLogger(searcher)\n",
    "\n",
    "# Run the genetic algorithm\n",
    "searcher.run(10)\n",
    "\n",
    "searcher.status[\"best\"].values, searcher.status[\"best_eval\"]"
   ]
  },
  {
   "cell_type": "code",
   "execution_count": null,
   "id": "40a03eda",
   "metadata": {},
   "outputs": [],
   "source": []
  }
 ],
 "metadata": {
  "kernelspec": {
   "display_name": "Python 3 (ipykernel)",
   "language": "python",
   "name": "python3"
  },
  "language_info": {
   "codemirror_mode": {
    "name": "ipython",
    "version": 3
   },
   "file_extension": ".py",
   "mimetype": "text/x-python",
   "name": "python",
   "nbconvert_exporter": "python",
   "pygments_lexer": "ipython3",
   "version": "3.9.15"
  },
  "varInspector": {
   "cols": {
    "lenName": 16,
    "lenType": 16,
    "lenVar": 40
   },
   "kernels_config": {
    "python": {
     "delete_cmd_postfix": "",
     "delete_cmd_prefix": "del ",
     "library": "var_list.py",
     "varRefreshCmd": "print(var_dic_list())"
    },
    "r": {
     "delete_cmd_postfix": ") ",
     "delete_cmd_prefix": "rm(",
     "library": "var_list.r",
     "varRefreshCmd": "cat(var_dic_list()) "
    }
   },
   "types_to_exclude": [
    "module",
    "function",
    "builtin_function_or_method",
    "instance",
    "_Feature"
   ],
   "window_display": false
  }
 },
 "nbformat": 4,
 "nbformat_minor": 5
}
